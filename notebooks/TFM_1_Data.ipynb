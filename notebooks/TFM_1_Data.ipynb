{
 "cells": [
  {
   "cell_type": "code",
   "execution_count": 47,
   "id": "2ac73303-6c1c-4b6a-ac5d-0a1bc1721f2e",
   "metadata": {
    "tags": []
   },
   "outputs": [],
   "source": [
    "import numpy as np\n",
    "import pandas as pd\n",
    "import seaborn as sns\n",
    "import matplotlib.pyplot as plt\n",
    "from math import radians, cos, sin, asin, sqrt\n",
    "from matplotlib.font_manager import FontProperties\n",
    "%matplotlib inline\n",
    "\n",
    "# Tratamiento del tiempo\n",
    "import time\n",
    "from datetime import datetime, date"
   ]
  },
  {
   "cell_type": "markdown",
   "id": "a9f713c6-ac0d-4d66-b307-f91fecacf8ef",
   "metadata": {},
   "source": [
    "# Lectura de ficheros "
   ]
  },
  {
   "cell_type": "code",
   "execution_count": 48,
   "id": "9e32d83c-233b-4b7c-a797-127bd3681a2b",
   "metadata": {
    "tags": []
   },
   "outputs": [],
   "source": [
    "df_train = pd.read_csv('fraudTrain.csv')"
   ]
  },
  {
   "cell_type": "code",
   "execution_count": 49,
   "id": "ae9de3ae-25bb-4770-bde1-e920bf15a868",
   "metadata": {
    "tags": []
   },
   "outputs": [
    {
     "data": {
      "text/html": [
       "<div>\n",
       "<style scoped>\n",
       "    .dataframe tbody tr th:only-of-type {\n",
       "        vertical-align: middle;\n",
       "    }\n",
       "\n",
       "    .dataframe tbody tr th {\n",
       "        vertical-align: top;\n",
       "    }\n",
       "\n",
       "    .dataframe thead th {\n",
       "        text-align: right;\n",
       "    }\n",
       "</style>\n",
       "<table border=\"1\" class=\"dataframe\">\n",
       "  <thead>\n",
       "    <tr style=\"text-align: right;\">\n",
       "      <th></th>\n",
       "      <th>Unnamed: 0</th>\n",
       "      <th>trans_date_trans_time</th>\n",
       "      <th>cc_num</th>\n",
       "      <th>merchant</th>\n",
       "      <th>category</th>\n",
       "      <th>amt</th>\n",
       "      <th>first</th>\n",
       "      <th>last</th>\n",
       "      <th>gender</th>\n",
       "      <th>street</th>\n",
       "      <th>...</th>\n",
       "      <th>lat</th>\n",
       "      <th>long</th>\n",
       "      <th>city_pop</th>\n",
       "      <th>job</th>\n",
       "      <th>dob</th>\n",
       "      <th>trans_num</th>\n",
       "      <th>unix_time</th>\n",
       "      <th>merch_lat</th>\n",
       "      <th>merch_long</th>\n",
       "      <th>is_fraud</th>\n",
       "    </tr>\n",
       "  </thead>\n",
       "  <tbody>\n",
       "    <tr>\n",
       "      <th>0</th>\n",
       "      <td>0</td>\n",
       "      <td>2019-01-01 00:00:18</td>\n",
       "      <td>2703186189652095</td>\n",
       "      <td>fraud_Rippin, Kub and Mann</td>\n",
       "      <td>misc_net</td>\n",
       "      <td>4.970000</td>\n",
       "      <td>Jennifer</td>\n",
       "      <td>Banks</td>\n",
       "      <td>F</td>\n",
       "      <td>561 Perry Cove</td>\n",
       "      <td>...</td>\n",
       "      <td>36.078800</td>\n",
       "      <td>-81.178100</td>\n",
       "      <td>3495</td>\n",
       "      <td>Psychologist, counselling</td>\n",
       "      <td>1988-03-09</td>\n",
       "      <td>0b242abb623afc578575680df30655b9</td>\n",
       "      <td>1325376018</td>\n",
       "      <td>36.011293</td>\n",
       "      <td>-82.048315</td>\n",
       "      <td>0</td>\n",
       "    </tr>\n",
       "    <tr>\n",
       "      <th>1</th>\n",
       "      <td>1</td>\n",
       "      <td>2019-01-01 00:00:44</td>\n",
       "      <td>630423337322</td>\n",
       "      <td>fraud_Heller, Gutmann and Zieme</td>\n",
       "      <td>grocery_pos</td>\n",
       "      <td>107.230000</td>\n",
       "      <td>Stephanie</td>\n",
       "      <td>Gill</td>\n",
       "      <td>F</td>\n",
       "      <td>43039 Riley Greens Suite 393</td>\n",
       "      <td>...</td>\n",
       "      <td>48.887800</td>\n",
       "      <td>-118.210500</td>\n",
       "      <td>149</td>\n",
       "      <td>Special educational needs teacher</td>\n",
       "      <td>1978-06-21</td>\n",
       "      <td>1f76529f8574734946361c461b024d99</td>\n",
       "      <td>1325376044</td>\n",
       "      <td>49.159047</td>\n",
       "      <td>-118.186462</td>\n",
       "      <td>0</td>\n",
       "    </tr>\n",
       "    <tr>\n",
       "      <th>2</th>\n",
       "      <td>2</td>\n",
       "      <td>2019-01-01 00:00:51</td>\n",
       "      <td>38859492057661</td>\n",
       "      <td>fraud_Lind-Buckridge</td>\n",
       "      <td>entertainment</td>\n",
       "      <td>220.110000</td>\n",
       "      <td>Edward</td>\n",
       "      <td>Sanchez</td>\n",
       "      <td>M</td>\n",
       "      <td>594 White Dale Suite 530</td>\n",
       "      <td>...</td>\n",
       "      <td>42.180800</td>\n",
       "      <td>-112.262000</td>\n",
       "      <td>4154</td>\n",
       "      <td>Nature conservation officer</td>\n",
       "      <td>1962-01-19</td>\n",
       "      <td>a1a22d70485983eac12b5b88dad1cf95</td>\n",
       "      <td>1325376051</td>\n",
       "      <td>43.150704</td>\n",
       "      <td>-112.154481</td>\n",
       "      <td>0</td>\n",
       "    </tr>\n",
       "    <tr>\n",
       "      <th>3</th>\n",
       "      <td>3</td>\n",
       "      <td>2019-01-01 00:01:16</td>\n",
       "      <td>3534093764340240</td>\n",
       "      <td>fraud_Kutch, Hermiston and Farrell</td>\n",
       "      <td>gas_transport</td>\n",
       "      <td>45.000000</td>\n",
       "      <td>Jeremy</td>\n",
       "      <td>White</td>\n",
       "      <td>M</td>\n",
       "      <td>9443 Cynthia Court Apt. 038</td>\n",
       "      <td>...</td>\n",
       "      <td>46.230600</td>\n",
       "      <td>-112.113800</td>\n",
       "      <td>1939</td>\n",
       "      <td>Patent attorney</td>\n",
       "      <td>1967-01-12</td>\n",
       "      <td>6b849c168bdad6f867558c3793159a81</td>\n",
       "      <td>1325376076</td>\n",
       "      <td>47.034331</td>\n",
       "      <td>-112.561071</td>\n",
       "      <td>0</td>\n",
       "    </tr>\n",
       "    <tr>\n",
       "      <th>4</th>\n",
       "      <td>4</td>\n",
       "      <td>2019-01-01 00:03:06</td>\n",
       "      <td>375534208663984</td>\n",
       "      <td>fraud_Keeling-Crist</td>\n",
       "      <td>misc_pos</td>\n",
       "      <td>41.960000</td>\n",
       "      <td>Tyler</td>\n",
       "      <td>Garcia</td>\n",
       "      <td>M</td>\n",
       "      <td>408 Bradley Rest</td>\n",
       "      <td>...</td>\n",
       "      <td>38.420700</td>\n",
       "      <td>-79.462900</td>\n",
       "      <td>99</td>\n",
       "      <td>Dance movement psychotherapist</td>\n",
       "      <td>1986-03-28</td>\n",
       "      <td>a41d7549acf90789359a9aa5346dcb46</td>\n",
       "      <td>1325376186</td>\n",
       "      <td>38.674999</td>\n",
       "      <td>-78.632459</td>\n",
       "      <td>0</td>\n",
       "    </tr>\n",
       "  </tbody>\n",
       "</table>\n",
       "<p>5 rows × 23 columns</p>\n",
       "</div>"
      ],
      "text/plain": [
       "   Unnamed: 0 trans_date_trans_time            cc_num  \\\n",
       "0           0   2019-01-01 00:00:18  2703186189652095   \n",
       "1           1   2019-01-01 00:00:44      630423337322   \n",
       "2           2   2019-01-01 00:00:51    38859492057661   \n",
       "3           3   2019-01-01 00:01:16  3534093764340240   \n",
       "4           4   2019-01-01 00:03:06   375534208663984   \n",
       "\n",
       "                             merchant       category        amt      first  \\\n",
       "0          fraud_Rippin, Kub and Mann       misc_net   4.970000   Jennifer   \n",
       "1     fraud_Heller, Gutmann and Zieme    grocery_pos 107.230000  Stephanie   \n",
       "2                fraud_Lind-Buckridge  entertainment 220.110000     Edward   \n",
       "3  fraud_Kutch, Hermiston and Farrell  gas_transport  45.000000     Jeremy   \n",
       "4                 fraud_Keeling-Crist       misc_pos  41.960000      Tyler   \n",
       "\n",
       "      last gender                        street  ...       lat        long  \\\n",
       "0    Banks      F                561 Perry Cove  ... 36.078800  -81.178100   \n",
       "1     Gill      F  43039 Riley Greens Suite 393  ... 48.887800 -118.210500   \n",
       "2  Sanchez      M      594 White Dale Suite 530  ... 42.180800 -112.262000   \n",
       "3    White      M   9443 Cynthia Court Apt. 038  ... 46.230600 -112.113800   \n",
       "4   Garcia      M              408 Bradley Rest  ... 38.420700  -79.462900   \n",
       "\n",
       "   city_pop                                job         dob  \\\n",
       "0      3495          Psychologist, counselling  1988-03-09   \n",
       "1       149  Special educational needs teacher  1978-06-21   \n",
       "2      4154        Nature conservation officer  1962-01-19   \n",
       "3      1939                    Patent attorney  1967-01-12   \n",
       "4        99     Dance movement psychotherapist  1986-03-28   \n",
       "\n",
       "                          trans_num   unix_time merch_lat  merch_long  \\\n",
       "0  0b242abb623afc578575680df30655b9  1325376018 36.011293  -82.048315   \n",
       "1  1f76529f8574734946361c461b024d99  1325376044 49.159047 -118.186462   \n",
       "2  a1a22d70485983eac12b5b88dad1cf95  1325376051 43.150704 -112.154481   \n",
       "3  6b849c168bdad6f867558c3793159a81  1325376076 47.034331 -112.561071   \n",
       "4  a41d7549acf90789359a9aa5346dcb46  1325376186 38.674999  -78.632459   \n",
       "\n",
       "   is_fraud  \n",
       "0         0  \n",
       "1         0  \n",
       "2         0  \n",
       "3         0  \n",
       "4         0  \n",
       "\n",
       "[5 rows x 23 columns]"
      ]
     },
     "execution_count": 49,
     "metadata": {},
     "output_type": "execute_result"
    }
   ],
   "source": [
    "df_train.head(5)"
   ]
  },
  {
   "cell_type": "code",
   "execution_count": 50,
   "id": "08a0a49b-6be6-4a7d-bbc9-8f7fbd9908e2",
   "metadata": {
    "tags": []
   },
   "outputs": [
    {
     "name": "stdout",
     "output_type": "stream",
     "text": [
      "(1296675, 23)\n"
     ]
    }
   ],
   "source": [
    "print(df_train.shape)"
   ]
  },
  {
   "cell_type": "code",
   "execution_count": 51,
   "id": "354c8f48-1fbb-4940-a9a3-d7b197f7f521",
   "metadata": {
    "tags": []
   },
   "outputs": [],
   "source": [
    "df_test = pd.read_csv('fraudTest.csv')"
   ]
  },
  {
   "cell_type": "code",
   "execution_count": 52,
   "id": "28d573b6-ffc9-4192-9d47-cef48370cd33",
   "metadata": {
    "tags": []
   },
   "outputs": [
    {
     "data": {
      "text/html": [
       "<div>\n",
       "<style scoped>\n",
       "    .dataframe tbody tr th:only-of-type {\n",
       "        vertical-align: middle;\n",
       "    }\n",
       "\n",
       "    .dataframe tbody tr th {\n",
       "        vertical-align: top;\n",
       "    }\n",
       "\n",
       "    .dataframe thead th {\n",
       "        text-align: right;\n",
       "    }\n",
       "</style>\n",
       "<table border=\"1\" class=\"dataframe\">\n",
       "  <thead>\n",
       "    <tr style=\"text-align: right;\">\n",
       "      <th></th>\n",
       "      <th>Unnamed: 0</th>\n",
       "      <th>trans_date_trans_time</th>\n",
       "      <th>cc_num</th>\n",
       "      <th>merchant</th>\n",
       "      <th>category</th>\n",
       "      <th>amt</th>\n",
       "      <th>first</th>\n",
       "      <th>last</th>\n",
       "      <th>gender</th>\n",
       "      <th>street</th>\n",
       "      <th>...</th>\n",
       "      <th>lat</th>\n",
       "      <th>long</th>\n",
       "      <th>city_pop</th>\n",
       "      <th>job</th>\n",
       "      <th>dob</th>\n",
       "      <th>trans_num</th>\n",
       "      <th>unix_time</th>\n",
       "      <th>merch_lat</th>\n",
       "      <th>merch_long</th>\n",
       "      <th>is_fraud</th>\n",
       "    </tr>\n",
       "  </thead>\n",
       "  <tbody>\n",
       "    <tr>\n",
       "      <th>0</th>\n",
       "      <td>0</td>\n",
       "      <td>2020-06-21 12:14:25</td>\n",
       "      <td>2291163933867244</td>\n",
       "      <td>fraud_Kirlin and Sons</td>\n",
       "      <td>personal_care</td>\n",
       "      <td>2.860000</td>\n",
       "      <td>Jeff</td>\n",
       "      <td>Elliott</td>\n",
       "      <td>M</td>\n",
       "      <td>351 Darlene Green</td>\n",
       "      <td>...</td>\n",
       "      <td>33.965900</td>\n",
       "      <td>-80.935500</td>\n",
       "      <td>333497</td>\n",
       "      <td>Mechanical engineer</td>\n",
       "      <td>1968-03-19</td>\n",
       "      <td>2da90c7d74bd46a0caf3777415b3ebd3</td>\n",
       "      <td>1371816865</td>\n",
       "      <td>33.986391</td>\n",
       "      <td>-81.200714</td>\n",
       "      <td>0</td>\n",
       "    </tr>\n",
       "    <tr>\n",
       "      <th>1</th>\n",
       "      <td>1</td>\n",
       "      <td>2020-06-21 12:14:33</td>\n",
       "      <td>3573030041201292</td>\n",
       "      <td>fraud_Sporer-Keebler</td>\n",
       "      <td>personal_care</td>\n",
       "      <td>29.840000</td>\n",
       "      <td>Joanne</td>\n",
       "      <td>Williams</td>\n",
       "      <td>F</td>\n",
       "      <td>3638 Marsh Union</td>\n",
       "      <td>...</td>\n",
       "      <td>40.320700</td>\n",
       "      <td>-110.436000</td>\n",
       "      <td>302</td>\n",
       "      <td>Sales professional, IT</td>\n",
       "      <td>1990-01-17</td>\n",
       "      <td>324cc204407e99f51b0d6ca0055005e7</td>\n",
       "      <td>1371816873</td>\n",
       "      <td>39.450498</td>\n",
       "      <td>-109.960431</td>\n",
       "      <td>0</td>\n",
       "    </tr>\n",
       "    <tr>\n",
       "      <th>2</th>\n",
       "      <td>2</td>\n",
       "      <td>2020-06-21 12:14:53</td>\n",
       "      <td>3598215285024754</td>\n",
       "      <td>fraud_Swaniawski, Nitzsche and Welch</td>\n",
       "      <td>health_fitness</td>\n",
       "      <td>41.280000</td>\n",
       "      <td>Ashley</td>\n",
       "      <td>Lopez</td>\n",
       "      <td>F</td>\n",
       "      <td>9333 Valentine Point</td>\n",
       "      <td>...</td>\n",
       "      <td>40.672900</td>\n",
       "      <td>-73.536500</td>\n",
       "      <td>34496</td>\n",
       "      <td>Librarian, public</td>\n",
       "      <td>1970-10-21</td>\n",
       "      <td>c81755dbbbea9d5c77f094348a7579be</td>\n",
       "      <td>1371816893</td>\n",
       "      <td>40.495810</td>\n",
       "      <td>-74.196111</td>\n",
       "      <td>0</td>\n",
       "    </tr>\n",
       "    <tr>\n",
       "      <th>3</th>\n",
       "      <td>3</td>\n",
       "      <td>2020-06-21 12:15:15</td>\n",
       "      <td>3591919803438423</td>\n",
       "      <td>fraud_Haley Group</td>\n",
       "      <td>misc_pos</td>\n",
       "      <td>60.050000</td>\n",
       "      <td>Brian</td>\n",
       "      <td>Williams</td>\n",
       "      <td>M</td>\n",
       "      <td>32941 Krystal Mill Apt. 552</td>\n",
       "      <td>...</td>\n",
       "      <td>28.569700</td>\n",
       "      <td>-80.819100</td>\n",
       "      <td>54767</td>\n",
       "      <td>Set designer</td>\n",
       "      <td>1987-07-25</td>\n",
       "      <td>2159175b9efe66dc301f149d3d5abf8c</td>\n",
       "      <td>1371816915</td>\n",
       "      <td>28.812398</td>\n",
       "      <td>-80.883061</td>\n",
       "      <td>0</td>\n",
       "    </tr>\n",
       "    <tr>\n",
       "      <th>4</th>\n",
       "      <td>4</td>\n",
       "      <td>2020-06-21 12:15:17</td>\n",
       "      <td>3526826139003047</td>\n",
       "      <td>fraud_Johnston-Casper</td>\n",
       "      <td>travel</td>\n",
       "      <td>3.190000</td>\n",
       "      <td>Nathan</td>\n",
       "      <td>Massey</td>\n",
       "      <td>M</td>\n",
       "      <td>5783 Evan Roads Apt. 465</td>\n",
       "      <td>...</td>\n",
       "      <td>44.252900</td>\n",
       "      <td>-85.017000</td>\n",
       "      <td>1126</td>\n",
       "      <td>Furniture designer</td>\n",
       "      <td>1955-07-06</td>\n",
       "      <td>57ff021bd3f328f8738bb535c302a31b</td>\n",
       "      <td>1371816917</td>\n",
       "      <td>44.959148</td>\n",
       "      <td>-85.884734</td>\n",
       "      <td>0</td>\n",
       "    </tr>\n",
       "  </tbody>\n",
       "</table>\n",
       "<p>5 rows × 23 columns</p>\n",
       "</div>"
      ],
      "text/plain": [
       "   Unnamed: 0 trans_date_trans_time            cc_num  \\\n",
       "0           0   2020-06-21 12:14:25  2291163933867244   \n",
       "1           1   2020-06-21 12:14:33  3573030041201292   \n",
       "2           2   2020-06-21 12:14:53  3598215285024754   \n",
       "3           3   2020-06-21 12:15:15  3591919803438423   \n",
       "4           4   2020-06-21 12:15:17  3526826139003047   \n",
       "\n",
       "                               merchant        category       amt   first  \\\n",
       "0                 fraud_Kirlin and Sons   personal_care  2.860000    Jeff   \n",
       "1                  fraud_Sporer-Keebler   personal_care 29.840000  Joanne   \n",
       "2  fraud_Swaniawski, Nitzsche and Welch  health_fitness 41.280000  Ashley   \n",
       "3                     fraud_Haley Group        misc_pos 60.050000   Brian   \n",
       "4                 fraud_Johnston-Casper          travel  3.190000  Nathan   \n",
       "\n",
       "       last gender                       street  ...       lat        long  \\\n",
       "0   Elliott      M            351 Darlene Green  ... 33.965900  -80.935500   \n",
       "1  Williams      F             3638 Marsh Union  ... 40.320700 -110.436000   \n",
       "2     Lopez      F         9333 Valentine Point  ... 40.672900  -73.536500   \n",
       "3  Williams      M  32941 Krystal Mill Apt. 552  ... 28.569700  -80.819100   \n",
       "4    Massey      M     5783 Evan Roads Apt. 465  ... 44.252900  -85.017000   \n",
       "\n",
       "   city_pop                     job         dob  \\\n",
       "0    333497     Mechanical engineer  1968-03-19   \n",
       "1       302  Sales professional, IT  1990-01-17   \n",
       "2     34496       Librarian, public  1970-10-21   \n",
       "3     54767            Set designer  1987-07-25   \n",
       "4      1126      Furniture designer  1955-07-06   \n",
       "\n",
       "                          trans_num   unix_time merch_lat  merch_long  \\\n",
       "0  2da90c7d74bd46a0caf3777415b3ebd3  1371816865 33.986391  -81.200714   \n",
       "1  324cc204407e99f51b0d6ca0055005e7  1371816873 39.450498 -109.960431   \n",
       "2  c81755dbbbea9d5c77f094348a7579be  1371816893 40.495810  -74.196111   \n",
       "3  2159175b9efe66dc301f149d3d5abf8c  1371816915 28.812398  -80.883061   \n",
       "4  57ff021bd3f328f8738bb535c302a31b  1371816917 44.959148  -85.884734   \n",
       "\n",
       "   is_fraud  \n",
       "0         0  \n",
       "1         0  \n",
       "2         0  \n",
       "3         0  \n",
       "4         0  \n",
       "\n",
       "[5 rows x 23 columns]"
      ]
     },
     "execution_count": 52,
     "metadata": {},
     "output_type": "execute_result"
    }
   ],
   "source": [
    "df_test.head(5)"
   ]
  },
  {
   "cell_type": "code",
   "execution_count": 53,
   "id": "b7a8acab-42a5-4c23-aff3-d9e91dab89eb",
   "metadata": {},
   "outputs": [
    {
     "name": "stdout",
     "output_type": "stream",
     "text": [
      "(555719, 23)\n"
     ]
    }
   ],
   "source": [
    "print(df_test.shape)"
   ]
  },
  {
   "cell_type": "markdown",
   "id": "2ee221f5-c56d-471e-9236-33cfa327ed2a",
   "metadata": {},
   "source": [
    "# Crear fichero completo a partir de train y test "
   ]
  },
  {
   "cell_type": "markdown",
   "id": "4cbb83b4-2928-4ab1-9aea-60ea909c27b2",
   "metadata": {},
   "source": [
    "Creamos **df_total** concatenando los datasets **train** y **test** para hacer el **EDA** sobre los datos completos:"
   ]
  },
  {
   "cell_type": "code",
   "execution_count": 54,
   "id": "da629f57-b1f0-4bde-8cb1-7098cf748892",
   "metadata": {
    "tags": []
   },
   "outputs": [],
   "source": [
    "df_total = pd.concat([df_train, df_test], axis=0)"
   ]
  },
  {
   "cell_type": "code",
   "execution_count": 55,
   "id": "27466756-2793-41db-a72f-6a566a5254ec",
   "metadata": {
    "tags": []
   },
   "outputs": [
    {
     "name": "stdout",
     "output_type": "stream",
     "text": [
      "(1852394, 23)\n"
     ]
    }
   ],
   "source": [
    "print(df_total.shape)"
   ]
  },
  {
   "cell_type": "markdown",
   "id": "7e76e816-8d3e-43e6-aef5-87b73693184f",
   "metadata": {},
   "source": [
    "# Eliminar filas duplicadas"
   ]
  },
  {
   "cell_type": "code",
   "execution_count": 56,
   "id": "18405ad0-ed26-4fbd-92d5-0e37141b732c",
   "metadata": {
    "tags": []
   },
   "outputs": [
    {
     "data": {
      "text/html": [
       "<div>\n",
       "<style scoped>\n",
       "    .dataframe tbody tr th:only-of-type {\n",
       "        vertical-align: middle;\n",
       "    }\n",
       "\n",
       "    .dataframe tbody tr th {\n",
       "        vertical-align: top;\n",
       "    }\n",
       "\n",
       "    .dataframe thead th {\n",
       "        text-align: right;\n",
       "    }\n",
       "</style>\n",
       "<table border=\"1\" class=\"dataframe\">\n",
       "  <thead>\n",
       "    <tr style=\"text-align: right;\">\n",
       "      <th></th>\n",
       "      <th>Unnamed: 0</th>\n",
       "      <th>trans_date_trans_time</th>\n",
       "      <th>cc_num</th>\n",
       "      <th>merchant</th>\n",
       "      <th>category</th>\n",
       "      <th>amt</th>\n",
       "      <th>first</th>\n",
       "      <th>last</th>\n",
       "      <th>gender</th>\n",
       "      <th>street</th>\n",
       "      <th>...</th>\n",
       "      <th>lat</th>\n",
       "      <th>long</th>\n",
       "      <th>city_pop</th>\n",
       "      <th>job</th>\n",
       "      <th>dob</th>\n",
       "      <th>trans_num</th>\n",
       "      <th>unix_time</th>\n",
       "      <th>merch_lat</th>\n",
       "      <th>merch_long</th>\n",
       "      <th>is_fraud</th>\n",
       "    </tr>\n",
       "  </thead>\n",
       "  <tbody>\n",
       "    <tr>\n",
       "      <th>0</th>\n",
       "      <td>0</td>\n",
       "      <td>2019-01-01 00:00:18</td>\n",
       "      <td>2703186189652095</td>\n",
       "      <td>fraud_Rippin, Kub and Mann</td>\n",
       "      <td>misc_net</td>\n",
       "      <td>4.970000</td>\n",
       "      <td>Jennifer</td>\n",
       "      <td>Banks</td>\n",
       "      <td>F</td>\n",
       "      <td>561 Perry Cove</td>\n",
       "      <td>...</td>\n",
       "      <td>36.078800</td>\n",
       "      <td>-81.178100</td>\n",
       "      <td>3495</td>\n",
       "      <td>Psychologist, counselling</td>\n",
       "      <td>1988-03-09</td>\n",
       "      <td>0b242abb623afc578575680df30655b9</td>\n",
       "      <td>1325376018</td>\n",
       "      <td>36.011293</td>\n",
       "      <td>-82.048315</td>\n",
       "      <td>0</td>\n",
       "    </tr>\n",
       "    <tr>\n",
       "      <th>1</th>\n",
       "      <td>1</td>\n",
       "      <td>2019-01-01 00:00:44</td>\n",
       "      <td>630423337322</td>\n",
       "      <td>fraud_Heller, Gutmann and Zieme</td>\n",
       "      <td>grocery_pos</td>\n",
       "      <td>107.230000</td>\n",
       "      <td>Stephanie</td>\n",
       "      <td>Gill</td>\n",
       "      <td>F</td>\n",
       "      <td>43039 Riley Greens Suite 393</td>\n",
       "      <td>...</td>\n",
       "      <td>48.887800</td>\n",
       "      <td>-118.210500</td>\n",
       "      <td>149</td>\n",
       "      <td>Special educational needs teacher</td>\n",
       "      <td>1978-06-21</td>\n",
       "      <td>1f76529f8574734946361c461b024d99</td>\n",
       "      <td>1325376044</td>\n",
       "      <td>49.159047</td>\n",
       "      <td>-118.186462</td>\n",
       "      <td>0</td>\n",
       "    </tr>\n",
       "    <tr>\n",
       "      <th>2</th>\n",
       "      <td>2</td>\n",
       "      <td>2019-01-01 00:00:51</td>\n",
       "      <td>38859492057661</td>\n",
       "      <td>fraud_Lind-Buckridge</td>\n",
       "      <td>entertainment</td>\n",
       "      <td>220.110000</td>\n",
       "      <td>Edward</td>\n",
       "      <td>Sanchez</td>\n",
       "      <td>M</td>\n",
       "      <td>594 White Dale Suite 530</td>\n",
       "      <td>...</td>\n",
       "      <td>42.180800</td>\n",
       "      <td>-112.262000</td>\n",
       "      <td>4154</td>\n",
       "      <td>Nature conservation officer</td>\n",
       "      <td>1962-01-19</td>\n",
       "      <td>a1a22d70485983eac12b5b88dad1cf95</td>\n",
       "      <td>1325376051</td>\n",
       "      <td>43.150704</td>\n",
       "      <td>-112.154481</td>\n",
       "      <td>0</td>\n",
       "    </tr>\n",
       "    <tr>\n",
       "      <th>3</th>\n",
       "      <td>3</td>\n",
       "      <td>2019-01-01 00:01:16</td>\n",
       "      <td>3534093764340240</td>\n",
       "      <td>fraud_Kutch, Hermiston and Farrell</td>\n",
       "      <td>gas_transport</td>\n",
       "      <td>45.000000</td>\n",
       "      <td>Jeremy</td>\n",
       "      <td>White</td>\n",
       "      <td>M</td>\n",
       "      <td>9443 Cynthia Court Apt. 038</td>\n",
       "      <td>...</td>\n",
       "      <td>46.230600</td>\n",
       "      <td>-112.113800</td>\n",
       "      <td>1939</td>\n",
       "      <td>Patent attorney</td>\n",
       "      <td>1967-01-12</td>\n",
       "      <td>6b849c168bdad6f867558c3793159a81</td>\n",
       "      <td>1325376076</td>\n",
       "      <td>47.034331</td>\n",
       "      <td>-112.561071</td>\n",
       "      <td>0</td>\n",
       "    </tr>\n",
       "    <tr>\n",
       "      <th>4</th>\n",
       "      <td>4</td>\n",
       "      <td>2019-01-01 00:03:06</td>\n",
       "      <td>375534208663984</td>\n",
       "      <td>fraud_Keeling-Crist</td>\n",
       "      <td>misc_pos</td>\n",
       "      <td>41.960000</td>\n",
       "      <td>Tyler</td>\n",
       "      <td>Garcia</td>\n",
       "      <td>M</td>\n",
       "      <td>408 Bradley Rest</td>\n",
       "      <td>...</td>\n",
       "      <td>38.420700</td>\n",
       "      <td>-79.462900</td>\n",
       "      <td>99</td>\n",
       "      <td>Dance movement psychotherapist</td>\n",
       "      <td>1986-03-28</td>\n",
       "      <td>a41d7549acf90789359a9aa5346dcb46</td>\n",
       "      <td>1325376186</td>\n",
       "      <td>38.674999</td>\n",
       "      <td>-78.632459</td>\n",
       "      <td>0</td>\n",
       "    </tr>\n",
       "    <tr>\n",
       "      <th>...</th>\n",
       "      <td>...</td>\n",
       "      <td>...</td>\n",
       "      <td>...</td>\n",
       "      <td>...</td>\n",
       "      <td>...</td>\n",
       "      <td>...</td>\n",
       "      <td>...</td>\n",
       "      <td>...</td>\n",
       "      <td>...</td>\n",
       "      <td>...</td>\n",
       "      <td>...</td>\n",
       "      <td>...</td>\n",
       "      <td>...</td>\n",
       "      <td>...</td>\n",
       "      <td>...</td>\n",
       "      <td>...</td>\n",
       "      <td>...</td>\n",
       "      <td>...</td>\n",
       "      <td>...</td>\n",
       "      <td>...</td>\n",
       "      <td>...</td>\n",
       "    </tr>\n",
       "    <tr>\n",
       "      <th>555714</th>\n",
       "      <td>555714</td>\n",
       "      <td>2020-12-31 23:59:07</td>\n",
       "      <td>30560609640617</td>\n",
       "      <td>fraud_Reilly and Sons</td>\n",
       "      <td>health_fitness</td>\n",
       "      <td>43.770000</td>\n",
       "      <td>Michael</td>\n",
       "      <td>Olson</td>\n",
       "      <td>M</td>\n",
       "      <td>558 Michael Estates</td>\n",
       "      <td>...</td>\n",
       "      <td>40.493100</td>\n",
       "      <td>-91.891200</td>\n",
       "      <td>519</td>\n",
       "      <td>Town planner</td>\n",
       "      <td>1966-02-13</td>\n",
       "      <td>9b1f753c79894c9f4b71f04581835ada</td>\n",
       "      <td>1388534347</td>\n",
       "      <td>39.946837</td>\n",
       "      <td>-91.333331</td>\n",
       "      <td>0</td>\n",
       "    </tr>\n",
       "    <tr>\n",
       "      <th>555715</th>\n",
       "      <td>555715</td>\n",
       "      <td>2020-12-31 23:59:09</td>\n",
       "      <td>3556613125071656</td>\n",
       "      <td>fraud_Hoppe-Parisian</td>\n",
       "      <td>kids_pets</td>\n",
       "      <td>111.840000</td>\n",
       "      <td>Jose</td>\n",
       "      <td>Vasquez</td>\n",
       "      <td>M</td>\n",
       "      <td>572 Davis Mountains</td>\n",
       "      <td>...</td>\n",
       "      <td>29.039300</td>\n",
       "      <td>-95.440100</td>\n",
       "      <td>28739</td>\n",
       "      <td>Futures trader</td>\n",
       "      <td>1999-12-27</td>\n",
       "      <td>2090647dac2c89a1d86c514c427f5b91</td>\n",
       "      <td>1388534349</td>\n",
       "      <td>29.661049</td>\n",
       "      <td>-96.186633</td>\n",
       "      <td>0</td>\n",
       "    </tr>\n",
       "    <tr>\n",
       "      <th>555716</th>\n",
       "      <td>555716</td>\n",
       "      <td>2020-12-31 23:59:15</td>\n",
       "      <td>6011724471098086</td>\n",
       "      <td>fraud_Rau-Robel</td>\n",
       "      <td>kids_pets</td>\n",
       "      <td>86.880000</td>\n",
       "      <td>Ann</td>\n",
       "      <td>Lawson</td>\n",
       "      <td>F</td>\n",
       "      <td>144 Evans Islands Apt. 683</td>\n",
       "      <td>...</td>\n",
       "      <td>46.196600</td>\n",
       "      <td>-118.901700</td>\n",
       "      <td>3684</td>\n",
       "      <td>Musician</td>\n",
       "      <td>1981-11-29</td>\n",
       "      <td>6c5b7c8add471975aa0fec023b2e8408</td>\n",
       "      <td>1388534355</td>\n",
       "      <td>46.658340</td>\n",
       "      <td>-119.715054</td>\n",
       "      <td>0</td>\n",
       "    </tr>\n",
       "    <tr>\n",
       "      <th>555717</th>\n",
       "      <td>555717</td>\n",
       "      <td>2020-12-31 23:59:24</td>\n",
       "      <td>4079773899158</td>\n",
       "      <td>fraud_Breitenberg LLC</td>\n",
       "      <td>travel</td>\n",
       "      <td>7.990000</td>\n",
       "      <td>Eric</td>\n",
       "      <td>Preston</td>\n",
       "      <td>M</td>\n",
       "      <td>7020 Doyle Stream Apt. 951</td>\n",
       "      <td>...</td>\n",
       "      <td>44.625500</td>\n",
       "      <td>-116.449300</td>\n",
       "      <td>129</td>\n",
       "      <td>Cartographer</td>\n",
       "      <td>1965-12-15</td>\n",
       "      <td>14392d723bb7737606b2700ac791b7aa</td>\n",
       "      <td>1388534364</td>\n",
       "      <td>44.470525</td>\n",
       "      <td>-117.080888</td>\n",
       "      <td>0</td>\n",
       "    </tr>\n",
       "    <tr>\n",
       "      <th>555718</th>\n",
       "      <td>555718</td>\n",
       "      <td>2020-12-31 23:59:34</td>\n",
       "      <td>4170689372027579</td>\n",
       "      <td>fraud_Dare-Marvin</td>\n",
       "      <td>entertainment</td>\n",
       "      <td>38.130000</td>\n",
       "      <td>Samuel</td>\n",
       "      <td>Frey</td>\n",
       "      <td>M</td>\n",
       "      <td>830 Myers Plaza Apt. 384</td>\n",
       "      <td>...</td>\n",
       "      <td>35.666500</td>\n",
       "      <td>-97.479800</td>\n",
       "      <td>116001</td>\n",
       "      <td>Media buyer</td>\n",
       "      <td>1993-05-10</td>\n",
       "      <td>1765bb45b3aa3224b4cdcb6e7a96cee3</td>\n",
       "      <td>1388534374</td>\n",
       "      <td>36.210097</td>\n",
       "      <td>-97.036372</td>\n",
       "      <td>0</td>\n",
       "    </tr>\n",
       "  </tbody>\n",
       "</table>\n",
       "<p>1852394 rows × 23 columns</p>\n",
       "</div>"
      ],
      "text/plain": [
       "        Unnamed: 0 trans_date_trans_time            cc_num  \\\n",
       "0                0   2019-01-01 00:00:18  2703186189652095   \n",
       "1                1   2019-01-01 00:00:44      630423337322   \n",
       "2                2   2019-01-01 00:00:51    38859492057661   \n",
       "3                3   2019-01-01 00:01:16  3534093764340240   \n",
       "4                4   2019-01-01 00:03:06   375534208663984   \n",
       "...            ...                   ...               ...   \n",
       "555714      555714   2020-12-31 23:59:07    30560609640617   \n",
       "555715      555715   2020-12-31 23:59:09  3556613125071656   \n",
       "555716      555716   2020-12-31 23:59:15  6011724471098086   \n",
       "555717      555717   2020-12-31 23:59:24     4079773899158   \n",
       "555718      555718   2020-12-31 23:59:34  4170689372027579   \n",
       "\n",
       "                                  merchant        category        amt  \\\n",
       "0               fraud_Rippin, Kub and Mann        misc_net   4.970000   \n",
       "1          fraud_Heller, Gutmann and Zieme     grocery_pos 107.230000   \n",
       "2                     fraud_Lind-Buckridge   entertainment 220.110000   \n",
       "3       fraud_Kutch, Hermiston and Farrell   gas_transport  45.000000   \n",
       "4                      fraud_Keeling-Crist        misc_pos  41.960000   \n",
       "...                                    ...             ...        ...   \n",
       "555714               fraud_Reilly and Sons  health_fitness  43.770000   \n",
       "555715                fraud_Hoppe-Parisian       kids_pets 111.840000   \n",
       "555716                     fraud_Rau-Robel       kids_pets  86.880000   \n",
       "555717               fraud_Breitenberg LLC          travel   7.990000   \n",
       "555718                   fraud_Dare-Marvin   entertainment  38.130000   \n",
       "\n",
       "            first     last gender                        street  ...  \\\n",
       "0        Jennifer    Banks      F                561 Perry Cove  ...   \n",
       "1       Stephanie     Gill      F  43039 Riley Greens Suite 393  ...   \n",
       "2          Edward  Sanchez      M      594 White Dale Suite 530  ...   \n",
       "3          Jeremy    White      M   9443 Cynthia Court Apt. 038  ...   \n",
       "4           Tyler   Garcia      M              408 Bradley Rest  ...   \n",
       "...           ...      ...    ...                           ...  ...   \n",
       "555714    Michael    Olson      M           558 Michael Estates  ...   \n",
       "555715       Jose  Vasquez      M           572 Davis Mountains  ...   \n",
       "555716        Ann   Lawson      F    144 Evans Islands Apt. 683  ...   \n",
       "555717       Eric  Preston      M    7020 Doyle Stream Apt. 951  ...   \n",
       "555718     Samuel     Frey      M      830 Myers Plaza Apt. 384  ...   \n",
       "\n",
       "             lat        long  city_pop                                job  \\\n",
       "0      36.078800  -81.178100      3495          Psychologist, counselling   \n",
       "1      48.887800 -118.210500       149  Special educational needs teacher   \n",
       "2      42.180800 -112.262000      4154        Nature conservation officer   \n",
       "3      46.230600 -112.113800      1939                    Patent attorney   \n",
       "4      38.420700  -79.462900        99     Dance movement psychotherapist   \n",
       "...          ...         ...       ...                                ...   \n",
       "555714 40.493100  -91.891200       519                       Town planner   \n",
       "555715 29.039300  -95.440100     28739                     Futures trader   \n",
       "555716 46.196600 -118.901700      3684                           Musician   \n",
       "555717 44.625500 -116.449300       129                       Cartographer   \n",
       "555718 35.666500  -97.479800    116001                        Media buyer   \n",
       "\n",
       "               dob                         trans_num   unix_time merch_lat  \\\n",
       "0       1988-03-09  0b242abb623afc578575680df30655b9  1325376018 36.011293   \n",
       "1       1978-06-21  1f76529f8574734946361c461b024d99  1325376044 49.159047   \n",
       "2       1962-01-19  a1a22d70485983eac12b5b88dad1cf95  1325376051 43.150704   \n",
       "3       1967-01-12  6b849c168bdad6f867558c3793159a81  1325376076 47.034331   \n",
       "4       1986-03-28  a41d7549acf90789359a9aa5346dcb46  1325376186 38.674999   \n",
       "...            ...                               ...         ...       ...   \n",
       "555714  1966-02-13  9b1f753c79894c9f4b71f04581835ada  1388534347 39.946837   \n",
       "555715  1999-12-27  2090647dac2c89a1d86c514c427f5b91  1388534349 29.661049   \n",
       "555716  1981-11-29  6c5b7c8add471975aa0fec023b2e8408  1388534355 46.658340   \n",
       "555717  1965-12-15  14392d723bb7737606b2700ac791b7aa  1388534364 44.470525   \n",
       "555718  1993-05-10  1765bb45b3aa3224b4cdcb6e7a96cee3  1388534374 36.210097   \n",
       "\n",
       "        merch_long  is_fraud  \n",
       "0       -82.048315         0  \n",
       "1      -118.186462         0  \n",
       "2      -112.154481         0  \n",
       "3      -112.561071         0  \n",
       "4       -78.632459         0  \n",
       "...            ...       ...  \n",
       "555714  -91.333331         0  \n",
       "555715  -96.186633         0  \n",
       "555716 -119.715054         0  \n",
       "555717 -117.080888         0  \n",
       "555718  -97.036372         0  \n",
       "\n",
       "[1852394 rows x 23 columns]"
      ]
     },
     "execution_count": 56,
     "metadata": {},
     "output_type": "execute_result"
    }
   ],
   "source": [
    "df_total.drop_duplicates()"
   ]
  },
  {
   "cell_type": "code",
   "execution_count": 57,
   "id": "f75d07dd-6a27-4a70-8078-139b8219d7b5",
   "metadata": {
    "tags": []
   },
   "outputs": [
    {
     "name": "stdout",
     "output_type": "stream",
     "text": [
      "(1852394, 23)\n"
     ]
    }
   ],
   "source": [
    "print(df_total.shape)"
   ]
  },
  {
   "cell_type": "markdown",
   "id": "908c8cd5-1eee-4500-afa3-34ab70d6a541",
   "metadata": {},
   "source": [
    "Son las mismas filas que antes, lo que significa que no había filas duplicadas  "
   ]
  },
  {
   "cell_type": "markdown",
   "id": "08faaf2c-1c45-4b5f-866d-45e543ba0ec3",
   "metadata": {},
   "source": [
    "# Valores nulos y tipos de datos "
   ]
  },
  {
   "cell_type": "markdown",
   "id": "37d1d163-bbba-4f36-ab97-081d87de8b50",
   "metadata": {},
   "source": [
    "Buscamos **nulos**:"
   ]
  },
  {
   "cell_type": "code",
   "execution_count": 58,
   "id": "d733db01-5c8a-4850-ab2a-898f46b4d622",
   "metadata": {
    "collapsed": true,
    "jupyter": {
     "outputs_hidden": true
    },
    "tags": []
   },
   "outputs": [
    {
     "data": {
      "text/plain": [
       "Unnamed: 0               0\n",
       "trans_date_trans_time    0\n",
       "cc_num                   0\n",
       "merchant                 0\n",
       "category                 0\n",
       "amt                      0\n",
       "first                    0\n",
       "last                     0\n",
       "gender                   0\n",
       "street                   0\n",
       "city                     0\n",
       "state                    0\n",
       "zip                      0\n",
       "lat                      0\n",
       "long                     0\n",
       "city_pop                 0\n",
       "job                      0\n",
       "dob                      0\n",
       "trans_num                0\n",
       "unix_time                0\n",
       "merch_lat                0\n",
       "merch_long               0\n",
       "is_fraud                 0\n",
       "dtype: int64"
      ]
     },
     "execution_count": 58,
     "metadata": {},
     "output_type": "execute_result"
    }
   ],
   "source": [
    "df_total.isnull().sum()"
   ]
  },
  {
   "cell_type": "markdown",
   "id": "7f544c22-81c2-4cbf-b910-83685657d119",
   "metadata": {},
   "source": [
    "No hay nulos.  \n",
    "  \n",
    "Obtenemos los **tipos de dato** del dataset:    "
   ]
  },
  {
   "cell_type": "code",
   "execution_count": 59,
   "id": "9ed0df43-887e-49cd-8382-6477fd4ef7e3",
   "metadata": {
    "tags": []
   },
   "outputs": [
    {
     "name": "stdout",
     "output_type": "stream",
     "text": [
      "<class 'pandas.core.frame.DataFrame'>\n",
      "Int64Index: 1852394 entries, 0 to 555718\n",
      "Data columns (total 23 columns):\n",
      " #   Column                 Dtype  \n",
      "---  ------                 -----  \n",
      " 0   Unnamed: 0             int64  \n",
      " 1   trans_date_trans_time  object \n",
      " 2   cc_num                 int64  \n",
      " 3   merchant               object \n",
      " 4   category               object \n",
      " 5   amt                    float64\n",
      " 6   first                  object \n",
      " 7   last                   object \n",
      " 8   gender                 object \n",
      " 9   street                 object \n",
      " 10  city                   object \n",
      " 11  state                  object \n",
      " 12  zip                    int64  \n",
      " 13  lat                    float64\n",
      " 14  long                   float64\n",
      " 15  city_pop               int64  \n",
      " 16  job                    object \n",
      " 17  dob                    object \n",
      " 18  trans_num              object \n",
      " 19  unix_time              int64  \n",
      " 20  merch_lat              float64\n",
      " 21  merch_long             float64\n",
      " 22  is_fraud               int64  \n",
      "dtypes: float64(5), int64(6), object(12)\n",
      "memory usage: 339.2+ MB\n"
     ]
    }
   ],
   "source": [
    "df_total.info()"
   ]
  },
  {
   "cell_type": "markdown",
   "id": "27a278c8-30e7-45ff-a2d2-6808b6dbee23",
   "metadata": {},
   "source": [
    "Eliminamos la columna **Unnamed**:"
   ]
  },
  {
   "cell_type": "markdown",
   "id": "bd036f04-94d0-4a44-bf01-27290461eff2",
   "metadata": {},
   "source": [
    "# Información estadística básica"
   ]
  },
  {
   "cell_type": "code",
   "execution_count": 60,
   "id": "55805bc6-2926-479e-a8e2-d731bdb5d410",
   "metadata": {
    "tags": []
   },
   "outputs": [
    {
     "data": {
      "text/html": [
       "<div>\n",
       "<style scoped>\n",
       "    .dataframe tbody tr th:only-of-type {\n",
       "        vertical-align: middle;\n",
       "    }\n",
       "\n",
       "    .dataframe tbody tr th {\n",
       "        vertical-align: top;\n",
       "    }\n",
       "\n",
       "    .dataframe thead th {\n",
       "        text-align: right;\n",
       "    }\n",
       "</style>\n",
       "<table border=\"1\" class=\"dataframe\">\n",
       "  <thead>\n",
       "    <tr style=\"text-align: right;\">\n",
       "      <th></th>\n",
       "      <th>Unnamed: 0</th>\n",
       "      <th>cc_num</th>\n",
       "      <th>amt</th>\n",
       "      <th>zip</th>\n",
       "      <th>lat</th>\n",
       "      <th>long</th>\n",
       "      <th>city_pop</th>\n",
       "      <th>unix_time</th>\n",
       "      <th>merch_lat</th>\n",
       "      <th>merch_long</th>\n",
       "      <th>is_fraud</th>\n",
       "    </tr>\n",
       "  </thead>\n",
       "  <tbody>\n",
       "    <tr>\n",
       "      <th>count</th>\n",
       "      <td>1852394.000000</td>\n",
       "      <td>1852394.000000</td>\n",
       "      <td>1852394.000000</td>\n",
       "      <td>1852394.000000</td>\n",
       "      <td>1852394.000000</td>\n",
       "      <td>1852394.000000</td>\n",
       "      <td>1852394.000000</td>\n",
       "      <td>1852394.000000</td>\n",
       "      <td>1852394.000000</td>\n",
       "      <td>1852394.000000</td>\n",
       "      <td>1852394.000000</td>\n",
       "    </tr>\n",
       "    <tr>\n",
       "      <th>mean</th>\n",
       "      <td>537193.440000</td>\n",
       "      <td>417386038393710400.000000</td>\n",
       "      <td>70.063567</td>\n",
       "      <td>48813.258191</td>\n",
       "      <td>38.539311</td>\n",
       "      <td>-90.227832</td>\n",
       "      <td>88643.674509</td>\n",
       "      <td>1358674218.834364</td>\n",
       "      <td>38.538976</td>\n",
       "      <td>-90.227940</td>\n",
       "      <td>0.005210</td>\n",
       "    </tr>\n",
       "    <tr>\n",
       "      <th>std</th>\n",
       "      <td>366910.960483</td>\n",
       "      <td>1309115265318020352.000000</td>\n",
       "      <td>159.253975</td>\n",
       "      <td>26881.845966</td>\n",
       "      <td>5.071470</td>\n",
       "      <td>13.747895</td>\n",
       "      <td>301487.618344</td>\n",
       "      <td>18195081.387560</td>\n",
       "      <td>5.105604</td>\n",
       "      <td>13.759692</td>\n",
       "      <td>0.071992</td>\n",
       "    </tr>\n",
       "    <tr>\n",
       "      <th>min</th>\n",
       "      <td>0.000000</td>\n",
       "      <td>60416207185.000000</td>\n",
       "      <td>1.000000</td>\n",
       "      <td>1257.000000</td>\n",
       "      <td>20.027100</td>\n",
       "      <td>-165.672300</td>\n",
       "      <td>23.000000</td>\n",
       "      <td>1325376018.000000</td>\n",
       "      <td>19.027422</td>\n",
       "      <td>-166.671575</td>\n",
       "      <td>0.000000</td>\n",
       "    </tr>\n",
       "    <tr>\n",
       "      <th>25%</th>\n",
       "      <td>231549.000000</td>\n",
       "      <td>180042946491150.000000</td>\n",
       "      <td>9.640000</td>\n",
       "      <td>26237.000000</td>\n",
       "      <td>34.668900</td>\n",
       "      <td>-96.798000</td>\n",
       "      <td>741.000000</td>\n",
       "      <td>1343016823.750000</td>\n",
       "      <td>34.740122</td>\n",
       "      <td>-96.899440</td>\n",
       "      <td>0.000000</td>\n",
       "    </tr>\n",
       "    <tr>\n",
       "      <th>50%</th>\n",
       "      <td>463098.000000</td>\n",
       "      <td>3521417320836166.000000</td>\n",
       "      <td>47.450000</td>\n",
       "      <td>48174.000000</td>\n",
       "      <td>39.354300</td>\n",
       "      <td>-87.476900</td>\n",
       "      <td>2443.000000</td>\n",
       "      <td>1357089331.000000</td>\n",
       "      <td>39.368900</td>\n",
       "      <td>-87.440694</td>\n",
       "      <td>0.000000</td>\n",
       "    </tr>\n",
       "    <tr>\n",
       "      <th>75%</th>\n",
       "      <td>833575.750000</td>\n",
       "      <td>4642255475285942.000000</td>\n",
       "      <td>83.100000</td>\n",
       "      <td>72042.000000</td>\n",
       "      <td>41.940400</td>\n",
       "      <td>-80.158000</td>\n",
       "      <td>20328.000000</td>\n",
       "      <td>1374581485.250000</td>\n",
       "      <td>41.956263</td>\n",
       "      <td>-80.245108</td>\n",
       "      <td>0.000000</td>\n",
       "    </tr>\n",
       "    <tr>\n",
       "      <th>max</th>\n",
       "      <td>1296674.000000</td>\n",
       "      <td>4992346398065154048.000000</td>\n",
       "      <td>28948.900000</td>\n",
       "      <td>99921.000000</td>\n",
       "      <td>66.693300</td>\n",
       "      <td>-67.950300</td>\n",
       "      <td>2906700.000000</td>\n",
       "      <td>1388534374.000000</td>\n",
       "      <td>67.510267</td>\n",
       "      <td>-66.950902</td>\n",
       "      <td>1.000000</td>\n",
       "    </tr>\n",
       "  </tbody>\n",
       "</table>\n",
       "</div>"
      ],
      "text/plain": [
       "          Unnamed: 0                     cc_num            amt            zip  \\\n",
       "count 1852394.000000             1852394.000000 1852394.000000 1852394.000000   \n",
       "mean   537193.440000  417386038393710400.000000      70.063567   48813.258191   \n",
       "std    366910.960483 1309115265318020352.000000     159.253975   26881.845966   \n",
       "min         0.000000         60416207185.000000       1.000000    1257.000000   \n",
       "25%    231549.000000     180042946491150.000000       9.640000   26237.000000   \n",
       "50%    463098.000000    3521417320836166.000000      47.450000   48174.000000   \n",
       "75%    833575.750000    4642255475285942.000000      83.100000   72042.000000   \n",
       "max   1296674.000000 4992346398065154048.000000   28948.900000   99921.000000   \n",
       "\n",
       "                 lat           long       city_pop         unix_time  \\\n",
       "count 1852394.000000 1852394.000000 1852394.000000    1852394.000000   \n",
       "mean       38.539311     -90.227832   88643.674509 1358674218.834364   \n",
       "std         5.071470      13.747895  301487.618344   18195081.387560   \n",
       "min        20.027100    -165.672300      23.000000 1325376018.000000   \n",
       "25%        34.668900     -96.798000     741.000000 1343016823.750000   \n",
       "50%        39.354300     -87.476900    2443.000000 1357089331.000000   \n",
       "75%        41.940400     -80.158000   20328.000000 1374581485.250000   \n",
       "max        66.693300     -67.950300 2906700.000000 1388534374.000000   \n",
       "\n",
       "           merch_lat     merch_long       is_fraud  \n",
       "count 1852394.000000 1852394.000000 1852394.000000  \n",
       "mean       38.538976     -90.227940       0.005210  \n",
       "std         5.105604      13.759692       0.071992  \n",
       "min        19.027422    -166.671575       0.000000  \n",
       "25%        34.740122     -96.899440       0.000000  \n",
       "50%        39.368900     -87.440694       0.000000  \n",
       "75%        41.956263     -80.245108       0.000000  \n",
       "max        67.510267     -66.950902       1.000000  "
      ]
     },
     "execution_count": 60,
     "metadata": {},
     "output_type": "execute_result"
    }
   ],
   "source": [
    "# Configurar opciones de visualización para que el formato sea flotante y no exponencial\n",
    "pd.set_option('display.float_format', '{:.6f}'.format)\n",
    "\n",
    "df_total.describe()"
   ]
  },
  {
   "cell_type": "markdown",
   "id": "aed44e52-bab9-427d-88dc-ec38fa41dc0a",
   "metadata": {},
   "source": [
    "# Crear columna categórica 'Population_group' dividiendo en tramos 'city_pop'"
   ]
  },
  {
   "cell_type": "code",
   "execution_count": 61,
   "id": "5c75adf2-0841-4fe2-9bdf-a95569ac4294",
   "metadata": {
    "tags": []
   },
   "outputs": [
    {
     "data": {
      "text/plain": [
       "606        8049\n",
       "1595797    7312\n",
       "1312922    7297\n",
       "241        6578\n",
       "1766       6556\n",
       "           ... \n",
       "198659        7\n",
       "242803        7\n",
       "1888          7\n",
       "99475         7\n",
       "1071          6\n",
       "Name: city_pop, Length: 891, dtype: int64"
      ]
     },
     "execution_count": 61,
     "metadata": {},
     "output_type": "execute_result"
    }
   ],
   "source": [
    "df_total['city_pop'].value_counts()"
   ]
  },
  {
   "cell_type": "code",
   "execution_count": 62,
   "id": "4e1a4e84-f853-4b81-be57-a42e908998a0",
   "metadata": {
    "tags": []
   },
   "outputs": [
    {
     "name": "stdout",
     "output_type": "stream",
     "text": [
      "Población mínima :  23  habitantes\n"
     ]
    }
   ],
   "source": [
    "print('Población mínima : ', df_total['city_pop'].min(), ' habitantes')"
   ]
  },
  {
   "cell_type": "code",
   "execution_count": 63,
   "id": "6f1189b5-833b-4e16-ac01-df3b85dc1f8d",
   "metadata": {
    "tags": []
   },
   "outputs": [
    {
     "name": "stdout",
     "output_type": "stream",
     "text": [
      "Población máxima :  2906700  habitantes\n"
     ]
    }
   ],
   "source": [
    "print('Población máxima : ', df_total['city_pop'].max(), ' habitantes')"
   ]
  },
  {
   "cell_type": "markdown",
   "id": "708cb3dd-0270-4b3e-b6d8-dd5b92636e91",
   "metadata": {},
   "source": [
    "Dados estos valores mínimo y máximo, creamos intervalos de 0 a 3M de habitantes con incrementos de 500K: "
   ]
  },
  {
   "cell_type": "code",
   "execution_count": 64,
   "id": "44fd21f5-9b9d-4e25-b5df-d84c214b519b",
   "metadata": {
    "tags": []
   },
   "outputs": [
    {
     "data": {
      "text/plain": [
       "<500K        1758657\n",
       "[500K-1M)      46877\n",
       "[1M-1,5M)      21224\n",
       "[1,5M-2M)      16105\n",
       "[2,5M-3M]       8794\n",
       "[2M-2,5M)        737\n",
       "Name: Population_group, dtype: int64"
      ]
     },
     "execution_count": 64,
     "metadata": {},
     "output_type": "execute_result"
    }
   ],
   "source": [
    "df_total['Population_group'] = pd.cut(df_total[\"city_pop\"], bins=list(range(0,3000001,500000)),\n",
    "                                      labels = [\"<500K\",\"[500K-1M)\",\"[1M-1,5M)\",\"[1,5M-2M)\",\n",
    "                                                \"[2M-2,5M)\",\"[2,5M-3M]\"])\n",
    "df_total['Population_group'].value_counts()"
   ]
  },
  {
   "cell_type": "markdown",
   "id": "20849c86-9095-49c8-a092-dd5d00ff9e71",
   "metadata": {},
   "source": [
    "# Conversión de fechas desde tipo object a datetime"
   ]
  },
  {
   "cell_type": "code",
   "execution_count": 65,
   "id": "072e7931-6e22-4a0e-977d-af835e5ee2bc",
   "metadata": {
    "tags": []
   },
   "outputs": [],
   "source": [
    "df_total['trans_date_trans_time'] = pd.to_datetime(df_total['trans_date_trans_time'])"
   ]
  },
  {
   "cell_type": "code",
   "execution_count": 66,
   "id": "80af994e-cd58-4bf5-b8c4-2e7b8eda5bc6",
   "metadata": {
    "tags": []
   },
   "outputs": [
    {
     "data": {
      "text/plain": [
       "0   2019-01-01 00:00:18\n",
       "1   2019-01-01 00:00:44\n",
       "2   2019-01-01 00:00:51\n",
       "3   2019-01-01 00:01:16\n",
       "4   2019-01-01 00:03:06\n",
       "Name: trans_date_trans_time, dtype: datetime64[ns]"
      ]
     },
     "execution_count": 66,
     "metadata": {},
     "output_type": "execute_result"
    }
   ],
   "source": [
    "df_total['trans_date_trans_time'].head(5)"
   ]
  },
  {
   "cell_type": "code",
   "execution_count": 67,
   "id": "a5831e14-9b98-4e32-b804-51b861ddae90",
   "metadata": {
    "tags": []
   },
   "outputs": [],
   "source": [
    "df_total['dob'] = pd.to_datetime(df_total['dob'])"
   ]
  },
  {
   "cell_type": "code",
   "execution_count": 68,
   "id": "37eb285f-8cd8-44db-b7c7-65622ce7bb83",
   "metadata": {
    "tags": []
   },
   "outputs": [
    {
     "data": {
      "text/plain": [
       "0   1988-03-09\n",
       "1   1978-06-21\n",
       "2   1962-01-19\n",
       "3   1967-01-12\n",
       "4   1986-03-28\n",
       "Name: dob, dtype: datetime64[ns]"
      ]
     },
     "execution_count": 68,
     "metadata": {},
     "output_type": "execute_result"
    }
   ],
   "source": [
    "df_total['dob'].head(5)"
   ]
  },
  {
   "cell_type": "markdown",
   "id": "76a72851-69e6-44c7-afb0-0f84381c17e7",
   "metadata": {},
   "source": [
    "# Separar fecha y hora de las transacciones en varias columnas "
   ]
  },
  {
   "cell_type": "markdown",
   "id": "d006e164-3080-4db8-be29-c92db539e38f",
   "metadata": {},
   "source": [
    "Creamos columnas con el mes, el año y el día de la semana para poder analizar estas variables: "
   ]
  },
  {
   "cell_type": "code",
   "execution_count": 69,
   "id": "6f622354-a975-401e-b08e-25d89375db55",
   "metadata": {
    "tags": []
   },
   "outputs": [],
   "source": [
    "df_total['hour'] = df_total['trans_date_trans_time'].dt.hour"
   ]
  },
  {
   "cell_type": "code",
   "execution_count": 70,
   "id": "0e4959ca-58d0-4ac6-bec1-bf9576335f56",
   "metadata": {
    "tags": []
   },
   "outputs": [
    {
     "data": {
      "text/plain": [
       "23    95902\n",
       "22    95370\n",
       "16    94289\n",
       "18    94052\n",
       "21    93738\n",
       "17    93514\n",
       "13    93492\n",
       "15    93439\n",
       "19    93433\n",
       "12    93294\n",
       "14    93089\n",
       "20    93081\n",
       "1     61330\n",
       "3     60968\n",
       "2     60796\n",
       "0     60655\n",
       "8     60498\n",
       "6     60406\n",
       "10    60320\n",
       "7     60301\n",
       "9     60231\n",
       "11    60170\n",
       "5     60088\n",
       "4     59938\n",
       "Name: hour, dtype: int64"
      ]
     },
     "execution_count": 70,
     "metadata": {},
     "output_type": "execute_result"
    }
   ],
   "source": [
    "df_total['hour'].value_counts()"
   ]
  },
  {
   "cell_type": "code",
   "execution_count": 71,
   "id": "183671fc-8395-43b6-b628-f191e7b2adbe",
   "metadata": {
    "tags": []
   },
   "outputs": [],
   "source": [
    "df_total['dayofweek'] = df_total['trans_date_trans_time'].dt.dayofweek"
   ]
  },
  {
   "cell_type": "code",
   "execution_count": 72,
   "id": "76df1eba-406d-4e9f-8933-880fe183a28b",
   "metadata": {
    "tags": []
   },
   "outputs": [
    {
     "data": {
      "text/plain": [
       "0    369418\n",
       "6    343677\n",
       "1    270340\n",
       "5    263227\n",
       "4    215078\n",
       "3    206741\n",
       "2    183913\n",
       "Name: dayofweek, dtype: int64"
      ]
     },
     "execution_count": 72,
     "metadata": {},
     "output_type": "execute_result"
    }
   ],
   "source": [
    "df_total['dayofweek'].value_counts()"
   ]
  },
  {
   "cell_type": "code",
   "execution_count": 73,
   "id": "14123e90-2d9c-4137-886f-f9ca2e2bd7f4",
   "metadata": {
    "tags": []
   },
   "outputs": [],
   "source": [
    "df_total['month'] = df_total['trans_date_trans_time'].dt.month"
   ]
  },
  {
   "cell_type": "code",
   "execution_count": 74,
   "id": "56e48eec-eeb2-48ce-9f6e-26bf89de54a9",
   "metadata": {
    "tags": []
   },
   "outputs": [
    {
     "data": {
      "text/plain": [
       "12    280598\n",
       "8     176118\n",
       "6     173869\n",
       "7     172444\n",
       "5     146875\n",
       "3     143789\n",
       "11    143056\n",
       "9     140185\n",
       "10    138106\n",
       "4     134970\n",
       "1     104727\n",
       "2      97657\n",
       "Name: month, dtype: int64"
      ]
     },
     "execution_count": 74,
     "metadata": {},
     "output_type": "execute_result"
    }
   ],
   "source": [
    "df_total['month'].value_counts()"
   ]
  },
  {
   "cell_type": "code",
   "execution_count": 75,
   "id": "1dd445ce-a596-46e9-87f0-7f3e10376a19",
   "metadata": {},
   "outputs": [],
   "source": [
    "df_total['year'] = df_total['trans_date_trans_time'].dt.year"
   ]
  },
  {
   "cell_type": "code",
   "execution_count": 76,
   "id": "3ce940ec-1106-40e5-97c5-759e7e1b94ad",
   "metadata": {},
   "outputs": [
    {
     "data": {
      "text/plain": [
       "2020    927544\n",
       "2019    924850\n",
       "Name: year, dtype: int64"
      ]
     },
     "execution_count": 76,
     "metadata": {},
     "output_type": "execute_result"
    }
   ],
   "source": [
    "df_total['year'].value_counts()"
   ]
  },
  {
   "cell_type": "markdown",
   "id": "12536420-3af1-44b7-b2a4-d4ebe3acf39e",
   "metadata": {},
   "source": [
    "# Crear columna 'age' a partir de 'dob'"
   ]
  },
  {
   "cell_type": "code",
   "execution_count": 77,
   "id": "a891cf13-8b99-48cb-be05-a24866464782",
   "metadata": {
    "tags": []
   },
   "outputs": [],
   "source": [
    "def calculate_age(born_date):\n",
    "    ''' Función que convierte la fecha de nacimiento en edad por diferencia con la fecha actual '''\n",
    "    \n",
    "    # Fecha actual\n",
    "    today = date.today()\n",
    "    \n",
    "    return today.year - born_date.year - ((today.month, today.day) < (born_date.month, born_date.day))"
   ]
  },
  {
   "cell_type": "code",
   "execution_count": 78,
   "id": "e133c4fc-5955-497c-9d3e-649d57bcbac5",
   "metadata": {
    "tags": []
   },
   "outputs": [],
   "source": [
    "df_total['age'] = df_total['dob'].apply(calculate_age)"
   ]
  },
  {
   "cell_type": "code",
   "execution_count": 79,
   "id": "5e5b6787-1ff1-4051-87ad-07158850aed3",
   "metadata": {
    "tags": []
   },
   "outputs": [
    {
     "data": {
      "text/plain": [
       "51    68695\n",
       "36    59237\n",
       "38    58429\n",
       "47    51189\n",
       "39    48949\n",
       "      ...  \n",
       "91     2965\n",
       "80     2227\n",
       "21     1472\n",
       "99      735\n",
       "98       11\n",
       "Name: age, Length: 82, dtype: int64"
      ]
     },
     "execution_count": 79,
     "metadata": {},
     "output_type": "execute_result"
    }
   ],
   "source": [
    "df_total['age'].value_counts().sort_values(ascending=False)"
   ]
  },
  {
   "cell_type": "markdown",
   "id": "cb15d817-bb8f-4a1d-90de-52ccf1637a1b",
   "metadata": {},
   "source": [
    "# Crear columna 'age_group' a partir de 'age'"
   ]
  },
  {
   "cell_type": "code",
   "execution_count": 80,
   "id": "56f5c2e3-3d39-47c2-9c6c-f36f6c1e985c",
   "metadata": {
    "tags": []
   },
   "outputs": [
    {
     "data": {
      "text/plain": [
       "18"
      ]
     },
     "execution_count": 80,
     "metadata": {},
     "output_type": "execute_result"
    }
   ],
   "source": [
    "df_total['age'].min()"
   ]
  },
  {
   "cell_type": "code",
   "execution_count": 81,
   "id": "e17790da-e72e-46e2-9e48-bb64ee990e0e",
   "metadata": {
    "tags": []
   },
   "outputs": [
    {
     "data": {
      "text/plain": [
       "99"
      ]
     },
     "execution_count": 81,
     "metadata": {},
     "output_type": "execute_result"
    }
   ],
   "source": [
    "df_total['age'].max()"
   ]
  },
  {
   "cell_type": "markdown",
   "id": "7d6fbb52-37ce-4298-bd6c-245a719b2b7e",
   "metadata": {},
   "source": [
    "En vista de estos valores, hacemos la siguiente divison en tramos:"
   ]
  },
  {
   "cell_type": "code",
   "execution_count": 82,
   "id": "9a3f9f94-114f-41cf-8f05-d0b98affaf47",
   "metadata": {},
   "outputs": [],
   "source": [
    "df_total['age_group'] = pd.cut(df_total['age'], bins=[0,20,30,40,50,60,70,80,9999],\n",
    "                               labels = ['<20', '[20-30)', '[30-40)', '[40-50)', \n",
    "                                         '[50-60)', '[60-70)', '[70-80)', '>=80'])"
   ]
  },
  {
   "cell_type": "code",
   "execution_count": 83,
   "id": "98395b49-22df-4f64-8b06-b4e5136acba8",
   "metadata": {},
   "outputs": [
    {
     "data": {
      "text/plain": [
       "[30-40)    425514\n",
       "[40-50)    385227\n",
       "[50-60)    328089\n",
       "[60-70)    230087\n",
       "[20-30)    221121\n",
       ">=80       123228\n",
       "[70-80)    119406\n",
       "<20         19722\n",
       "Name: age_group, dtype: int64"
      ]
     },
     "execution_count": 83,
     "metadata": {},
     "output_type": "execute_result"
    }
   ],
   "source": [
    "df_total['age_group'].value_counts()"
   ]
  },
  {
   "cell_type": "markdown",
   "id": "ede81cd6-1665-411d-bb16-a605e0214e2b",
   "metadata": {},
   "source": [
    "# Crear columna con distancia en km. entre cliente y comerciante"
   ]
  },
  {
   "cell_type": "markdown",
   "id": "38c51809-05f3-4cf4-b579-6c164b5bc0a9",
   "metadata": {},
   "source": [
    "Para convertir la diferencia de coordenadas en distancia en km. se utiliza la **fórmula de Haversine**: "
   ]
  },
  {
   "cell_type": "code",
   "execution_count": 84,
   "id": "27f323bb-028f-4543-ab98-3f0391b72863",
   "metadata": {},
   "outputs": [],
   "source": [
    "def haversine(lat1, lon1, lat2, lon2): \n",
    "    '''Calcula la distancia en km. entre dos puntos expresados en coordenadas'''\n",
    "    \n",
    "    R = 6372.8 # Radio de la Tierra en km.\n",
    "\n",
    "    # Diferencia de coordenadas en radianes\n",
    "    dLat = np.radians(lat2 - lat1)\n",
    "    dLon = np.radians(lon2 - lon1)\n",
    "    \n",
    "    # Conversión de la diferencia a radianes\n",
    "    lat1 = np.radians(lat1)\n",
    "    lat2 = np.radians(lat2)\n",
    "\n",
    "    # Cálculo de la fórmula de Haversine\n",
    "    a = np.sin(dLat/2)**2 + np.cos(lat1) * np.cos(lat2) *np.sin(dLon/2)**2\n",
    "    c = 2 * np.arcsin(np.sqrt(a))\n",
    "    \n",
    "    return R * c"
   ]
  },
  {
   "cell_type": "code",
   "execution_count": 85,
   "id": "5dc7a9a9-5eef-405f-b284-5a88a99e3e33",
   "metadata": {},
   "outputs": [],
   "source": [
    "# Aplicamos la función a las columnas de df_total\n",
    "\n",
    "df_total['distance_km'] = df_total.apply(lambda row: haversine(row['lat'], row['long'], row['merch_lat'], row['merch_long']), \n",
    "                                         axis=1)"
   ]
  },
  {
   "cell_type": "code",
   "execution_count": 86,
   "id": "276bcd5f-707a-45ac-a149-cc3ff52b77dc",
   "metadata": {},
   "outputs": [
    {
     "data": {
      "text/plain": [
       "0    78.619775\n",
       "1    30.220712\n",
       "2   108.236654\n",
       "3    95.700262\n",
       "4    77.578656\n",
       "Name: distance_km, dtype: float64"
      ]
     },
     "execution_count": 86,
     "metadata": {},
     "output_type": "execute_result"
    }
   ],
   "source": [
    "df_total['distance_km'].head(5)"
   ]
  },
  {
   "cell_type": "markdown",
   "id": "b8a3bf4a-c2f9-4a49-9d70-93a50c5b83bf",
   "metadata": {},
   "source": [
    "# Crear columna 'dist_km_group' con la distancia en km. dividida en tramos"
   ]
  },
  {
   "cell_type": "markdown",
   "id": "c25b39ea-d39b-497c-b932-cfc246717f62",
   "metadata": {},
   "source": [
    "Obtenemos los estadísticos básicos de la nueva columna:"
   ]
  },
  {
   "cell_type": "code",
   "execution_count": 87,
   "id": "4d74ee7c-26b2-47f2-bc4b-c19d40f3d23e",
   "metadata": {
    "tags": []
   },
   "outputs": [
    {
     "data": {
      "text/plain": [
       "count   1852394.000000\n",
       "mean         76.133230\n",
       "std          29.125197\n",
       "min           0.022261\n",
       "25%          55.335717\n",
       "50%          78.238478\n",
       "75%          98.537299\n",
       "max         152.160151\n",
       "Name: distance_km, dtype: float64"
      ]
     },
     "execution_count": 87,
     "metadata": {},
     "output_type": "execute_result"
    }
   ],
   "source": [
    "# Configurar opciones de visualización para que el formato sea flotante y no exponencial\n",
    "pd.set_option('display.float_format', '{:.6f}'.format)\n",
    "\n",
    "df_total['distance_km'].describe()"
   ]
  },
  {
   "cell_type": "markdown",
   "id": "457129bc-9836-469f-af87-772689c6801a",
   "metadata": {},
   "source": [
    "En vista de estos valores, dividimos **distance_km** en los siguientes tramos:"
   ]
  },
  {
   "cell_type": "code",
   "execution_count": 88,
   "id": "959d9768-9d79-4e4a-a626-95bda1aebeb1",
   "metadata": {
    "tags": []
   },
   "outputs": [],
   "source": [
    "df_total['dist_km_group'] = pd.cut(df_total['distance_km'], bins=[0,25,50,75,100,125,150,9999],\n",
    "                            labels = ['<25 km', '[25-50 km)', '[50-75 km)', '[75-100 km)', \n",
    "                                      '[100-125 km)', '[125-150 km)','>=150 km'])"
   ]
  },
  {
   "cell_type": "markdown",
   "id": "ac7064ce-cb83-4aa8-ac1c-1621eabb9f33",
   "metadata": {},
   "source": [
    "# Formato final de df_total"
   ]
  },
  {
   "cell_type": "code",
   "execution_count": 89,
   "id": "99dcca31-ad2f-4155-a5d4-855a1452c335",
   "metadata": {
    "tags": []
   },
   "outputs": [
    {
     "name": "stdout",
     "output_type": "stream",
     "text": [
      "<class 'pandas.core.frame.DataFrame'>\n",
      "Int64Index: 1852394 entries, 0 to 555718\n",
      "Data columns (total 32 columns):\n",
      " #   Column                 Dtype         \n",
      "---  ------                 -----         \n",
      " 0   Unnamed: 0             int64         \n",
      " 1   trans_date_trans_time  datetime64[ns]\n",
      " 2   cc_num                 int64         \n",
      " 3   merchant               object        \n",
      " 4   category               object        \n",
      " 5   amt                    float64       \n",
      " 6   first                  object        \n",
      " 7   last                   object        \n",
      " 8   gender                 object        \n",
      " 9   street                 object        \n",
      " 10  city                   object        \n",
      " 11  state                  object        \n",
      " 12  zip                    int64         \n",
      " 13  lat                    float64       \n",
      " 14  long                   float64       \n",
      " 15  city_pop               int64         \n",
      " 16  job                    object        \n",
      " 17  dob                    datetime64[ns]\n",
      " 18  trans_num              object        \n",
      " 19  unix_time              int64         \n",
      " 20  merch_lat              float64       \n",
      " 21  merch_long             float64       \n",
      " 22  is_fraud               int64         \n",
      " 23  Population_group       category      \n",
      " 24  hour                   int64         \n",
      " 25  dayofweek              int64         \n",
      " 26  month                  int64         \n",
      " 27  year                   int64         \n",
      " 28  age                    int64         \n",
      " 29  age_group              category      \n",
      " 30  distance_km            float64       \n",
      " 31  dist_km_group          category      \n",
      "dtypes: category(3), datetime64[ns](2), float64(6), int64(11), object(10)\n",
      "memory usage: 429.3+ MB\n"
     ]
    }
   ],
   "source": [
    "df_total.info()"
   ]
  },
  {
   "cell_type": "markdown",
   "id": "06f23fc7-628f-4615-8e92-980f6f2f47e0",
   "metadata": {},
   "source": [
    "# Grabación de csv con el formato final de df_total para poder disponer de él en otros notebooks "
   ]
  },
  {
   "cell_type": "code",
   "execution_count": 90,
   "id": "3ccf4425-665e-4a96-9930-755d44695034",
   "metadata": {
    "tags": []
   },
   "outputs": [],
   "source": [
    "df_total.to_csv('fraudTotal.csv', encoding='utf-8', index=False)"
   ]
  }
 ],
 "metadata": {
  "kernelspec": {
   "display_name": "Python 3 (ipykernel)",
   "language": "python",
   "name": "python3"
  },
  "language_info": {
   "codemirror_mode": {
    "name": "ipython",
    "version": 3
   },
   "file_extension": ".py",
   "mimetype": "text/x-python",
   "name": "python",
   "nbconvert_exporter": "python",
   "pygments_lexer": "ipython3",
   "version": "3.11.3"
  }
 },
 "nbformat": 4,
 "nbformat_minor": 5
}
